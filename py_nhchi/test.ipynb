{
 "cells": [
  {
   "cell_type": "code",
   "execution_count": 1,
   "metadata": {},
   "outputs": [],
   "source": [
    "# test read_topo.py\n",
    "import os\n",
    "import sys\n",
    "path_nhchi = os.path.expanduser('~/Documents/nhchi_work_2022/py_nhchi/')\n",
    "# adding to the system path\n",
    "sys.path.insert(0, path_nhchi)\n",
    "from read_topo import load_topo_arctic\n",
    "\n",
    "latTOPO, lonTOPO, topo = load_topo_arctic()"
   ]
  },
  {
   "cell_type": "code",
   "execution_count": 1,
   "metadata": {},
   "outputs": [
    {
     "name": "stdout",
     "output_type": "stream",
     "text": [
      "Successfully load 1035\n",
      "shape of lon, lat, u:  (29303,) (29303,) shape of u:  (29303, 50)\n",
      "Succesfully load tidal current of 1035\n",
      "Successfully load 1036\n",
      "shape of lon, lat, u:  (25095,) (25095,) shape of u:  (25095, 50)\n",
      "Succesfully load tidal current of 1036\n",
      "Successfully load 1037\n",
      "shape of lon, lat, u:  (25954,) (25954,) shape of u:  (25954, 50)\n",
      "Succesfully load tidal current of 1037\n"
     ]
    }
   ],
   "source": [
    "import os\n",
    "import sys\n",
    "path_nhchi = os.path.expanduser('~/Documents/nhchi_work_2022/py_nhchi/')\n",
    "# adding to the system path\n",
    "sys.path.insert(0, path_nhchi)\n",
    "from read_SD_ADCP_data import load_SD_nc_arctic2019, load_tide_current_arctic2019\n",
    "\n",
    "year = '2019'\n",
    "SD_name = ['1035','1036','1037']\n",
    "for i in range(len(SD_name)):\n",
    "    timeSD, lonSD, latSD, depthSD, uSD, vSD = load_SD_nc_arctic2019(year,SD_name[i])\n",
    "    uSD_tide, vSD_tide = load_tide_current_arctic2019(SD_name[i])"
   ]
  },
  {
   "cell_type": "code",
   "execution_count": 3,
   "metadata": {},
   "outputs": [
    {
     "name": "stdout",
     "output_type": "stream",
     "text": [
      "Successfully load 1020\n",
      "shape of lon, lat, u:  (28267,) (28267,) shape of u:  (28267, 50)\n"
     ]
    },
    {
     "data": {
      "text/plain": [
       "<matplotlib.colorbar.Colorbar at 0x7fbdbd08a7f0>"
      ]
     },
     "execution_count": 3,
     "metadata": {},
     "output_type": "execute_result"
    },
    {
     "data": {
      "image/png": "[encoded data removed]",
      "text/plain": [
       "<Figure size 432x288 with 2 Axes>"
      ]
     },
     "metadata": {
      "needs_background": "light"
     },
     "output_type": "display_data"
    }
   ],
   "source": [
    "import os\n",
    "import sys\n",
    "path_nhchi = os.path.expanduser('~/Documents/nhchi_work_2022/py_nhchi/')\n",
    "# adding to the system path\n",
    "sys.path.insert(0, path_nhchi)\n",
    "from read_SD_ADCP_data import load_SD_nc_arctic2018\n",
    "\n",
    "year = '2018'\n",
    "SD_name = ['1020']\n",
    "for i in range(len(SD_name)):\n",
    "    timeSD, lonSD, latSD, depthSD, uSD, vSD = load_SD_nc_arctic2018(year,SD_name[i])\n",
    "    # uSD_tide, vSD_tide = load_tide_current_arctic2019(SD_name[i])\n",
    "import matplotlib.pyplot as plt\n",
    "plt.pcolor(timeSD, depthSD, uSD.transpose(), cmap='jet')\n",
    "plt.colorbar()"
   ]
  },
  {
   "cell_type": "code",
   "execution_count": 3,
   "metadata": {},
   "outputs": [
    {
     "name": "stdout",
     "output_type": "stream",
     "text": [
      "(2019, 15.50005787037037)\n"
     ]
    }
   ],
   "source": [
    "import os\n",
    "import sys\n",
    "import datetime\n",
    "import numpy as np\n",
    "path_nhchi = os.path.expanduser('~/Documents/nhchi_work_2022/py_nhchi/')\n",
    "# adding to the system path\n",
    "sys.path.insert(0, path_nhchi)\n",
    "from convert_time import datetime_to_yearday\n",
    "\n",
    "# test = np.array([datetime.datetime(2019,1,15,12,0,5),datetime.datetime(2019,1,16)])\n",
    "test = datetime.datetime(2019,1,15,12,0,5)\n",
    "# test = np.squeeze(np.array([[1,2],[3,4]]))\n",
    "print(datetime_to_yearday(test))"
   ]
  },
  {
   "cell_type": "code",
   "execution_count": 2,
   "metadata": {},
   "outputs": [
    {
     "name": "stdout",
     "output_type": "stream",
     "text": [
      "nlost & begpt & endpt: 2 2 14\n",
      "2 0 5\n",
      "3 1 6\n",
      "4 2 7\n",
      "5 3 8\n",
      "6 4 9\n",
      "7 5 10\n",
      "8 6 11\n",
      "9 7 12\n",
      "10 8 13\n",
      "11 9 14\n",
      "12 10 15\n",
      "13 11 16\n",
      "[ 0.  1.  2.  3. nan  5.  6.  7.  8.  9. nan 11. 12. 13. 14. 15.]\n",
      "[  nan   nan  1.5   2.75  4.    5.25  6.5   7.    7.5   8.75 10.   11.25\n",
      " 12.5  13.     nan   nan]\n"
     ]
    },
    {
     "data": {
      "text/plain": [
       "[<matplotlib.lines.Line2D at 0x7f7d61719730>]"
      ]
     },
     "execution_count": 2,
     "metadata": {},
     "output_type": "execute_result"
    },
    {
     "data": {
      "image/png": "[encoded data removed]",
      "text/plain": [
       "<Figure size 432x288 with 1 Axes>"
      ]
     },
     "metadata": {
      "needs_background": "light"
     },
     "output_type": "display_data"
    }
   ],
   "source": [
    "import numpy as np\n",
    "import matplotlib.pyplot as plt\n",
    "path_nhchi = os.path.expanduser('~/Documents/nhchi_work_2022/py_nhchi/')\n",
    "# adding to the system path\n",
    "sys.path.insert(0, path_nhchi)\n",
    "from mystats import movingavg\n",
    "\n",
    "# test mystats.py\n",
    "test = np.array([0,1,2,3,np.nan,5,6,7,8,9,np.nan,11,12,13,14,15])\n",
    "a = movingavg(test,5,2)\n",
    "print(test)\n",
    "print(a)\n",
    "plt.plot(test,'o')\n",
    "plt.plot(a,'x')\n"
   ]
  },
  {
   "cell_type": "code",
   "execution_count": 4,
   "metadata": {},
   "outputs": [
    {
     "name": "stdout",
     "output_type": "stream",
     "text": [
      "[ nan  1.   2.   3.   4.   5.   6.   nan  8.   9.  10.  11.  12.  13.\n",
      " 14.  15.  16.5 17.5 18.  19.  20.  21.  22.  23.5 24.  25.  26.5 27.5\n",
      " 28.  29. ]\n",
      "len of x, xl, igood: 28 28 28\n",
      "0 0\n"
     ]
    },
    {
     "data": {
      "text/plain": [
       "[<matplotlib.lines.Line2D at 0x7fd3f003c400>]"
      ]
     },
     "execution_count": 4,
     "metadata": {},
     "output_type": "execute_result"
    },
    {
     "data": {
      "image/png": "[encoded data removed]",
      "text/plain": [
       "<Figure size 432x288 with 1 Axes>"
      ]
     },
     "metadata": {
      "needs_background": "light"
     },
     "output_type": "display_data"
    }
   ],
   "source": [
    "import numpy as np\n",
    "import matplotlib.pyplot as plt\n",
    "path_nhchi = os.path.expanduser('~/Documents/nhchi_work_2022/py_nhchi/')\n",
    "# adding to the system path\n",
    "sys.path.insert(0, path_nhchi)\n",
    "from mystats import movingavg, lpass\n",
    "\n",
    "test = np.array([np.nan,1,2,3,4,5,6,np.nan,8,9,10,11,12,13,14,15,16.5,17.5,18,19,20,21,22,23.5,24,25,26.5,27.5,28,29])\n",
    "print(test)\n",
    "# bad = np.isnan(test)\n",
    "# print(bad)\n",
    "# ibad = np.where(bad)[0]\n",
    "# print(ibad, type(ibad))\n",
    "# print(min(ibad))\n",
    "# test1 = np.sum(np.diff(np.diff(ibad))^2)\n",
    "# print(test1)\n",
    "# test = np.delete(test,bad)\n",
    "# print(test)\n",
    "yl, ff, hl = lpass(test, 1, 8, 2)\n",
    "plt.plot(test,'bo')\n",
    "plt.plot(yl,'r-o')"
   ]
  },
  {
   "cell_type": "code",
   "execution_count": 2,
   "metadata": {},
   "outputs": [
    {
     "name": "stdout",
     "output_type": "stream",
     "text": [
      "[ 0.   nan  2.   3.   4.   5.   6.   nan  8.   9.  10.  11.  12.  13.\n",
      " 14.  15.  16.5 17.5 18.  19.  20.  21.  22.  23.5 24.  25.  26.5 27.5\n",
      " 28.  29. ]\n",
      "14.516666666666667\n",
      "[-14.51666667 -14.51666667 -12.51666667 -11.51666667 -10.51666667\n",
      "  -9.51666667  -8.51666667  -8.51666667  -6.51666667  -5.51666667\n",
      "  -4.51666667  -3.51666667  -2.51666667  -1.51666667  -0.51666667\n",
      "   0.48333333   1.98333333   2.98333333   3.48333333   4.48333333\n",
      "   5.48333333   6.48333333   7.48333333   8.98333333   9.48333333\n",
      "  10.48333333  11.98333333  12.98333333  13.48333333  14.48333333]\n",
      "yl [-0.10243563  0.88155613  1.86818082  2.85812862  3.84909264  4.84073824\n",
      "  5.8364962   6.84216578  7.86125915  8.89168962  9.92844632 10.96758494\n",
      " 12.00692081 13.04507748 14.08052013 15.11062057 16.13158525 17.14087596\n",
      " 18.1406249  19.1373756  20.13809989 21.14706583 22.16498479 23.18955976\n",
      " 24.2174106  25.24506464 26.26752217 27.27840884 28.27261983 29.24611138]\n"
     ]
    },
    {
     "data": {
      "text/plain": [
       "[<matplotlib.lines.Line2D at 0x7f8213500820>]"
      ]
     },
     "execution_count": 2,
     "metadata": {},
     "output_type": "execute_result"
    },
    {
     "data": {
      "image/png": "[encoded data removed]",
      "text/plain": [
       "<Figure size 432x288 with 1 Axes>"
      ]
     },
     "metadata": {
      "needs_background": "light"
     },
     "output_type": "display_data"
    }
   ],
   "source": [
    "import numpy as np\n",
    "import matplotlib.pyplot as plt\n",
    "from scipy import interpolate\n",
    "path_nhchi = os.path.expanduser('~/Documents/nhchi_work_2022/py_nhchi/')\n",
    "# adding to the system path\n",
    "sys.path.insert(0, path_nhchi)\n",
    "from mystats import movingavg, lpass_NaN\n",
    "\n",
    "x = np.array([0,np.nan,2,3,4,5,6,np.nan,8,9,10,11,12,13,14,15,16.5,17.5,18,19,20,21,22,23.5,24,25,26.5,27.5,28,29])\n",
    "print(x)\n",
    "plt.plot(x,'bo')\n",
    "# test1 = lpass_NaN(test)\n",
    "# yl = np.nan*np.ones(len(x))\n",
    "# n = len(x);\n",
    "# nbin = np.arange(0,n)\n",
    "# bad = np.where( np.isnan(x) | np.isinf(x))[0]\n",
    "# good = np.where( ~np.isnan(x) & ~np.isinf(x))[0]\n",
    "# interpx = interpolate.interp1d(nbin[good],x[good],bounds_error=False,fill_value='extrapolate')(bad)\n",
    "# print(interpx)\n",
    "# x[bad] = interpx\n",
    "# print(x)\n",
    "yl, ff, hl = lpass_NaN(x,1,8,2)\n",
    "print('yl',yl)\n",
    "plt.plot(yl,'rx')"
   ]
  }
 ],
 "metadata": {
  "interpreter": {
   "hash": "b0ab1ef1bbfd7d65358860cb8bc17e3b3592716c2844b5db2f54d861486159ad"
  },
  "kernelspec": {
   "display_name": "Python 3.9.7 ('pycode')",
   "language": "python",
   "name": "python3"
  },
  "language_info": {
   "codemirror_mode": {
    "name": "ipython",
    "version": 3
   },
   "file_extension": ".py",
   "mimetype": "text/x-python",
   "name": "python",
   "nbconvert_exporter": "python",
   "pygments_lexer": "ipython3",
   "version": "3.9.7"
  },
  "orig_nbformat": 4
 },
 "nbformat": 4,
 "nbformat_minor": 2
}
